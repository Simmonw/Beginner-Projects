{
  "nbformat": 4,
  "nbformat_minor": 0,
  "metadata": {
    "colab": {
      "name": "Number_Guesser.ipynb",
      "provenance": [],
      "authorship_tag": "ABX9TyODeGMSlPNxsO2tLG2OKxN1",
      "include_colab_link": true
    },
    "kernelspec": {
      "name": "python3",
      "display_name": "Python 3"
    },
    "language_info": {
      "name": "python"
    }
  },
  "cells": [
    {
      "cell_type": "markdown",
      "metadata": {
        "id": "view-in-github",
        "colab_type": "text"
      },
      "source": [
        "<a href=\"https://colab.research.google.com/github/Simmonw/Beginner-Projects/blob/main/Number_Guesser.ipynb\" target=\"_parent\"><img src=\"https://colab.research.google.com/assets/colab-badge.svg\" alt=\"Open In Colab\"/></a>"
      ]
    },
    {
      "cell_type": "code",
      "execution_count": 5,
      "metadata": {
        "colab": {
          "base_uri": "https://localhost:8080/"
        },
        "id": "bN-v6_Z0LY3U",
        "outputId": "a9f4c3d2-c422-40a3-ab80-e2a05bb563b3"
      },
      "outputs": [
        {
          "output_type": "stream",
          "name": "stdout",
          "text": [
            "Type a number: 5\n",
            "Make a guess: 1\n",
            "You got it below the number!\n",
            "Make a guess: 2\n",
            "You got it below the number!\n",
            "Make a guess: 4\n",
            "You got it!\n",
            "You got it in 3 guesses\n"
          ]
        }
      ],
      "source": [
        "import random\n",
        "\n",
        "\n",
        "top_of_range = input(\"Type a number: \")\n",
        "\n",
        "if top_of_range.isdigit():\n",
        "  top_of_range = int(top_of_range)\n",
        "\n",
        "  if top_of_range <= 0:\n",
        "    print(\"Please use a number greater than 0\")\n",
        "    quit()\n",
        "\n",
        "else:\n",
        "  print(\"Please use a number\")\n",
        "  quit()\n",
        "\n",
        "random_number = random.randint(0,top_of_range)\n",
        "guesses = 0\n",
        "\n",
        "while True:\n",
        "  guesses += 1\n",
        "  user_guess = input(\"Make a guess: \")\n",
        "  if user_guess.isdigit():\n",
        "    user_guess = int(user_guess)\n",
        "  else:\n",
        "    print(\"Please use a number\")\n",
        "    continue\n",
        "\n",
        "  if user_guess == random_number:\n",
        "    print(\"You got it!\")\n",
        "    break\n",
        "  elif user_guess > random_number:\n",
        "      print(\"You were abover the number\")\n",
        "  else:\n",
        "      print(\"You got it below the number!\")\n",
        "\n",
        "\n",
        "print(\"You got it in\", guesses, \"guesses\")"
      ]
    }
  ]
}