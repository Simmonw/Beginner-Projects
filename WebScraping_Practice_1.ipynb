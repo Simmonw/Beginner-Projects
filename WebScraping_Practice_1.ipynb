{
  "nbformat": 4,
  "nbformat_minor": 0,
  "metadata": {
    "colab": {
      "name": "WebScraping_Practice_1.ipynb",
      "provenance": [],
      "authorship_tag": "ABX9TyMpN9IjNcO8G7TillwXLMT9",
      "include_colab_link": true
    },
    "kernelspec": {
      "name": "python3",
      "display_name": "Python 3"
    },
    "language_info": {
      "name": "python"
    }
  },
  "cells": [
    {
      "cell_type": "markdown",
      "metadata": {
        "id": "view-in-github",
        "colab_type": "text"
      },
      "source": [
        "<a href=\"https://colab.research.google.com/github/Simmonw/Beginner-Projects/blob/main/WebScraping_Practice_1.ipynb\" target=\"_parent\"><img src=\"https://colab.research.google.com/assets/colab-badge.svg\" alt=\"Open In Colab\"/></a>"
      ]
    },
    {
      "cell_type": "code",
      "execution_count": 7,
      "metadata": {
        "colab": {
          "base_uri": "https://localhost:8080/"
        },
        "id": "ohwHbanwVd3V",
        "outputId": "c5cb742a-9246-4cab-edbd-b497665554f1"
      },
      "outputs": [
        {
          "output_type": "stream",
          "name": "stdout",
          "text": [
            "Looking in indexes: https://pypi.org/simple, https://us-python.pkg.dev/colab-wheels/public/simple/\n",
            "Requirement already satisfied: beautifulsoup4 in /usr/local/lib/python3.7/dist-packages (4.6.3)\n",
            "Looking in indexes: https://pypi.org/simple, https://us-python.pkg.dev/colab-wheels/public/simple/\n",
            "Requirement already satisfied: requests in /usr/local/lib/python3.7/dist-packages (2.23.0)\n",
            "Requirement already satisfied: urllib3!=1.25.0,!=1.25.1,<1.26,>=1.21.1 in /usr/local/lib/python3.7/dist-packages (from requests) (1.24.3)\n",
            "Requirement already satisfied: idna<3,>=2.5 in /usr/local/lib/python3.7/dist-packages (from requests) (2.10)\n",
            "Requirement already satisfied: chardet<4,>=3.0.2 in /usr/local/lib/python3.7/dist-packages (from requests) (3.0.4)\n",
            "Requirement already satisfied: certifi>=2017.4.17 in /usr/local/lib/python3.7/dist-packages (from requests) (2022.5.18.1)\n"
          ]
        }
      ],
      "source": [
        "!pip install beautifulsoup4\n",
        "!pip install requests"
      ]
    },
    {
      "cell_type": "code",
      "source": [
        "from bs4 import BeautifulSoup\n",
        "import requests\n",
        "import csv\n",
        "url = \"https://quotes.toscrape.com/\"\n",
        "\n",
        "page_to_scrape = requests.get(url)\n",
        "soup = BeautifulSoup(page_to_scrape.text, \"html.parser\")\n",
        "quotes = soup.findAll(\"span\", attrs = {\"class\":\"text\"})\n",
        "authors = soup.findAll(\"small\", attrs = {\"class\":\"author\"})\n",
        "\n",
        "file = open(\"scraped_quotes.csv\", \"w\")\n",
        "writer = csv.writer(file)\n",
        "\n",
        "writer.writerow([\"QUOTES\",\"AUTHORS\"])\n",
        "\n",
        "for quote, author in zip (quotes, authors):\n",
        "  print(quote.text + \" - \" + author.text)\n",
        "  writer.writerow([quote.text, author.text])\n",
        "file.close()\n"
      ],
      "metadata": {
        "colab": {
          "base_uri": "https://localhost:8080/"
        },
        "id": "LwFGq7mNVkh5",
        "outputId": "9a6ce840-f8e2-4a57-99c5-f66b32b98604"
      },
      "execution_count": 18,
      "outputs": [
        {
          "output_type": "stream",
          "name": "stdout",
          "text": [
            "“The world as we have created it is a process of our thinking. It cannot be changed without changing our thinking.” - Albert Einstein\n",
            "“It is our choices, Harry, that show what we truly are, far more than our abilities.” - J.K. Rowling\n",
            "“There are only two ways to live your life. One is as though nothing is a miracle. The other is as though everything is a miracle.” - Albert Einstein\n",
            "“The person, be it gentleman or lady, who has not pleasure in a good novel, must be intolerably stupid.” - Jane Austen\n",
            "“Imperfection is beauty, madness is genius and it's better to be absolutely ridiculous than absolutely boring.” - Marilyn Monroe\n",
            "“Try not to become a man of success. Rather become a man of value.” - Albert Einstein\n",
            "“It is better to be hated for what you are than to be loved for what you are not.” - André Gide\n",
            "“I have not failed. I've just found 10,000 ways that won't work.” - Thomas A. Edison\n",
            "“A woman is like a tea bag; you never know how strong it is until it's in hot water.” - Eleanor Roosevelt\n",
            "“A day without sunshine is like, you know, night.” - Steve Martin\n"
          ]
        }
      ]
    }
  ]
}