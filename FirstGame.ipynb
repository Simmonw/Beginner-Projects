{
  "nbformat": 4,
  "nbformat_minor": 0,
  "metadata": {
    "colab": {
      "name": "FirstGame.ipynb",
      "provenance": [],
      "authorship_tag": "ABX9TyNHzAfZ0gnj/80FTdaEGfRG",
      "include_colab_link": true
    },
    "kernelspec": {
      "name": "python3",
      "display_name": "Python 3"
    },
    "language_info": {
      "name": "python"
    }
  },
  "cells": [
    {
      "cell_type": "markdown",
      "metadata": {
        "id": "view-in-github",
        "colab_type": "text"
      },
      "source": [
        "<a href=\"https://colab.research.google.com/github/Simmonw/Beginner-Projects/blob/main/FirstGame.ipynb\" target=\"_parent\"><img src=\"https://colab.research.google.com/assets/colab-badge.svg\" alt=\"Open In Colab\"/></a>"
      ]
    },
    {
      "cell_type": "code",
      "execution_count": 5,
      "metadata": {
        "colab": {
          "base_uri": "https://localhost:8080/"
        },
        "id": "Cll36ZycMkW7",
        "outputId": "4e06109d-3d9b-432b-febb-f290342bf85c"
      },
      "outputs": [
        {
          "output_type": "stream",
          "name": "stdout",
          "text": [
            "Welcome to my first game!\n",
            "What is your name?Will\n",
            "What is your age?21\n",
            "You are old enough to play!\n",
            "Do you want to play? yes\n",
            "You are starting with 10 health\n",
            "Let's play!\n",
            "First choice....Left or Right(left/right)left\n",
            "Nice, you follow the path and reach a lake...Do you swim across or go around (across/around)? around\n",
            "You went around and reached the other side of the lake\n",
            "You notice a house and a river which do you go to (river/house)? house\n",
            "You go to the house and are met by a monster that attacks you and you lose 5 health\n",
            "You win!\n"
          ]
        }
      ],
      "source": [
        "print(\"Welcome to my first game!\")\n",
        "name = input(\"What is your name? \")\n",
        "age = int(input(\"What is your age? \"))\n",
        "\n",
        "\n",
        "health = 10\n",
        "\n",
        "if age >= 18:\n",
        "  print(\"You are old enough to play!\")\n",
        "\n",
        "\n",
        "\n",
        "  wants_to_play = input(\"Do you want to play? \").lower()\n",
        "  if wants_to_play == \"yes\":\n",
        "    print(\"You are starting with\", health, \"health\")\n",
        "    print(\"Let's play!\")\n",
        "\n",
        "    left_or_right = input(\"First choice....Left or Right(left/right)\")\n",
        "    if left_or_right == \"left\":\n",
        "      ans = input(\"Nice, you follow the path and reach a lake...Do you swim across or go around (across/around)? \")\n",
        "\n",
        "      if ans == \"around\":\n",
        "        print(\"You went around and reached the other side of the lake\")\n",
        "\n",
        "      elif ans == \"across\":\n",
        "        print(\"You got across, but were bit by a fish and lost 5 health\")\n",
        "        health -= 5 \n",
        "\n",
        "      ans = input(\"You notice a house and a river which do you go to (river/house)? \")\n",
        "      if ans == \"house\":\n",
        "        print(\"You go to the house and are met by a monster that attacks you and you lose 5 health\")\n",
        "        health -= 5\n",
        "\n",
        "        if health <= 0:\n",
        "          print(\"You have no more health and you lost!\")\n",
        "\n",
        "        else:\n",
        "          print(\"You win!\")\n",
        "\n",
        "      else:\n",
        "        print(\"You fell in the river and lost...\")\n",
        "\n",
        "\n",
        "\n",
        "    else:\n",
        "      print(\"You fell down and lost...\")\n",
        "\n",
        "  else:\n",
        "    print(\"Cya.....\")\n",
        "elif age >= 14: \n",
        "  print(\"You can play with adult supervision\")\n",
        "else:\n",
        "  print(\"You are not old enough to play...\")"
      ]
    }
  ]
}