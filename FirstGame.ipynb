{
  "nbformat": 4,
  "nbformat_minor": 0,
  "metadata": {
    "colab": {
      "name": "FirstGame.ipynb",
      "provenance": [],
      "authorship_tag": "ABX9TyNVvrAqR4Wv68GUmP5L0mC6",
      "include_colab_link": true
    },
    "kernelspec": {
      "name": "python3",
      "display_name": "Python 3"
    },
    "language_info": {
      "name": "python"
    }
  },
  "cells": [
    {
      "cell_type": "markdown",
      "metadata": {
        "id": "view-in-github",
        "colab_type": "text"
      },
      "source": [
        "<a href=\"https://colab.research.google.com/github/Simmonw/Beginner-Projects/blob/main/FirstGame.ipynb\" target=\"_parent\"><img src=\"https://colab.research.google.com/assets/colab-badge.svg\" alt=\"Open In Colab\"/></a>"
      ]
    },
    {
      "cell_type": "code",
      "execution_count": 30,
      "metadata": {
        "colab": {
          "base_uri": "https://localhost:8080/"
        },
        "id": "Cll36ZycMkW7",
        "outputId": "9ab85f82-0d47-4758-b20f-18b82373ade3"
      },
      "outputs": [
        {
          "output_type": "stream",
          "name": "stdout",
          "text": [
            "Welcome to my first game!\n",
            "What is your name? will\n",
            "What is your age? 29\n",
            "You are old enough to play!\n",
            "Do you want to play? yes\n",
            "You are starting with 15 health\n",
            "You are starting with 25 attack\n",
            "You are starting with 25 defense\n",
            "You are starting with 50 experience\n",
            "Let's play!\n",
            "Choose your weapon...(sword/shield)shield\n",
            "You chose the shield Great choice!\n",
            "First choice....Left or Right(left/right)left\n",
            "Nice, you follow the path and reach a lake...Do you swim across or go around (across/around)? across\n",
            "You got across, but were bit by a fish and lost 5 health\n",
            "You notice a house and a river which do you go to (river/house)? house\n",
            "You go to the house and are met by a monster that attacks you!\n",
            "Do you want to attack, defend, or run against the monster (attack/defend/run)? defend\n",
            "You survived the attack and managed to get away, great defense! You have, 10\n",
            "You win!\n"
          ]
        }
      ],
      "source": [
        "print(\"Welcome to my first game!\")\n",
        "name = input(\"What is your name? \")\n",
        "age = int(input(\"What is your age? \"))\n",
        "\n",
        "\n",
        "health = 15\n",
        "attack = 25\n",
        "defense = 25\n",
        "experience = 50\n",
        "\n",
        "if age >= 18:\n",
        "  print(\"You are old enough to play!\")\n",
        "\n",
        "\n",
        "\n",
        "  wants_to_play = input(\"Do you want to play? \").lower()\n",
        "  if wants_to_play == \"yes\":\n",
        "    print(\"You are starting with\", health, \"health\")\n",
        "    print(\"You are starting with\", attack, \"attack\")\n",
        "    print(\"You are starting with\", defense, \"defense\")\n",
        "    print(\"You are starting with\", experience, \"experience\")\n",
        "    print(\"Let's play!\")\n",
        "\n",
        "\n",
        "    weapon_choice = input(\"Choose your weapon...(sword/shield)\")\n",
        "    print(\"You chose the\", weapon_choice, \"Great choice!\")\n",
        "\n",
        "    left_or_right = input(\"First choice....Left or Right(left/right)\")\n",
        "    if left_or_right == \"left\":\n",
        "      ans = input(\"Nice, you follow the path and reach a lake...Do you swim across or go around (across/around)? \")\n",
        "      \n",
        "      if ans == \"around\":\n",
        "        print(\"You went around and reached the other side of the lake\")\n",
        "\n",
        "      elif ans == \"across\":\n",
        "        print(\"You got across, but were bit by a fish and lost 5 health\")\n",
        "        health -= 5 \n",
        "\n",
        "      ans = input(\"You notice a house and a river which do you go to (river/house)? \")\n",
        "      if ans == \"house\":\n",
        "        print(\"You go to the house and are met by a monster that attacks you!\")\n",
        "\n",
        "        ans = input(\"Do you want to attack, defend, or run against the monster (attack/defend/run)? \")\n",
        "        if ans == \"attack\":\n",
        "          print(\"You fought the monster and survived but you lost your last 5 health!\")\n",
        "          attack += 25\n",
        "          defense += 5\n",
        "          experience += 50\n",
        "          health -= 5\n",
        "\n",
        "        elif ans == \"defend\":\n",
        "          print(\"You survived the attack and managed to get away, great defense!\")\n",
        "          attack += 5\n",
        "          defense += 25\n",
        "          experience += 35\n",
        "          health += 3\n",
        "\n",
        "        elif ans == \"run\":\n",
        "          print(\"You survived the attack and managed to get away but you lost all your health!\")\n",
        "          health -= 15\n",
        "\n",
        "        if health <= 0:\n",
        "          print(\"You have no more health and you lost!\")\n",
        "\n",
        "        elif health >=0:\n",
        "            print(\"You win!\")\n",
        "\n",
        "      elif ans == \"river\":\n",
        "        print(\"You fell in the river and lost...\")\n",
        "\n",
        "    else:\n",
        "      print(\"You fell down and lost...\")\n",
        "\n",
        "  else:\n",
        "    print(\"Cya.....\")\n",
        "elif age >= 14: \n",
        "  print(\"You can play with adult supervision\")\n",
        "else:\n",
        "  print(\"You are not old enough to play...\")"
      ]
    },
    {
      "cell_type": "code",
      "source": [
        ""
      ],
      "metadata": {
        "id": "MUCCxYGB1QJV"
      },
      "execution_count": null,
      "outputs": []
    }
  ]
}